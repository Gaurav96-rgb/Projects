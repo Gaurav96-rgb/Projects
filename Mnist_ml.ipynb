{
 "cells": [
  {
   "cell_type": "code",
   "execution_count": 26,
   "id": "0945cdc4",
   "metadata": {},
   "outputs": [],
   "source": [
    "import pandas as pd\n",
    "import numpy as np\n",
    "import matplotlib.pyplot as plt\n",
    "import seaborn as sns\n",
    "\n",
    "from sklearn.model_selection import train_test_split\n",
    "from sklearn.preprocessing import StandardScaler\n",
    "from sklearn.metrics import accuracy_score, classification_report, confusion_matrix\n",
    "from sklearn.neighbors import KNeighborsClassifier\n",
    "from sklearn.linear_model import LogisticRegression\n",
    "from sklearn.ensemble import RandomForestClassifier\n",
    "from sklearn.model_selection import RepeatedStratifiedKFold, cross_val_score\n",
    "\n",
    "\n",
    "import warnings\n",
    "warnings.filterwarnings(\"ignore\")"
   ]
  },
  {
   "cell_type": "code",
   "execution_count": 2,
   "id": "f7565ddd",
   "metadata": {},
   "outputs": [],
   "source": [
    "d0 = pd.read_csv(r'C:\\Users\\gaura\\OneDrive\\Documents\\LiveUpdate\\mnist_train.csv')"
   ]
  },
  {
   "cell_type": "code",
   "execution_count": 3,
   "id": "450f484e",
   "metadata": {
    "scrolled": false
   },
   "outputs": [
    {
     "data": {
      "text/html": [
       "<div>\n",
       "<style scoped>\n",
       "    .dataframe tbody tr th:only-of-type {\n",
       "        vertical-align: middle;\n",
       "    }\n",
       "\n",
       "    .dataframe tbody tr th {\n",
       "        vertical-align: top;\n",
       "    }\n",
       "\n",
       "    .dataframe thead th {\n",
       "        text-align: right;\n",
       "    }\n",
       "</style>\n",
       "<table border=\"1\" class=\"dataframe\">\n",
       "  <thead>\n",
       "    <tr style=\"text-align: right;\">\n",
       "      <th></th>\n",
       "      <th>label</th>\n",
       "      <th>pixel0</th>\n",
       "      <th>pixel1</th>\n",
       "      <th>pixel2</th>\n",
       "      <th>pixel3</th>\n",
       "      <th>pixel4</th>\n",
       "      <th>pixel5</th>\n",
       "      <th>pixel6</th>\n",
       "      <th>pixel7</th>\n",
       "      <th>pixel8</th>\n",
       "      <th>...</th>\n",
       "      <th>pixel774</th>\n",
       "      <th>pixel775</th>\n",
       "      <th>pixel776</th>\n",
       "      <th>pixel777</th>\n",
       "      <th>pixel778</th>\n",
       "      <th>pixel779</th>\n",
       "      <th>pixel780</th>\n",
       "      <th>pixel781</th>\n",
       "      <th>pixel782</th>\n",
       "      <th>pixel783</th>\n",
       "    </tr>\n",
       "  </thead>\n",
       "  <tbody>\n",
       "    <tr>\n",
       "      <th>0</th>\n",
       "      <td>1</td>\n",
       "      <td>0</td>\n",
       "      <td>0</td>\n",
       "      <td>0</td>\n",
       "      <td>0</td>\n",
       "      <td>0</td>\n",
       "      <td>0</td>\n",
       "      <td>0</td>\n",
       "      <td>0</td>\n",
       "      <td>0</td>\n",
       "      <td>...</td>\n",
       "      <td>0</td>\n",
       "      <td>0</td>\n",
       "      <td>0</td>\n",
       "      <td>0</td>\n",
       "      <td>0</td>\n",
       "      <td>0</td>\n",
       "      <td>0</td>\n",
       "      <td>0</td>\n",
       "      <td>0</td>\n",
       "      <td>0</td>\n",
       "    </tr>\n",
       "    <tr>\n",
       "      <th>1</th>\n",
       "      <td>0</td>\n",
       "      <td>0</td>\n",
       "      <td>0</td>\n",
       "      <td>0</td>\n",
       "      <td>0</td>\n",
       "      <td>0</td>\n",
       "      <td>0</td>\n",
       "      <td>0</td>\n",
       "      <td>0</td>\n",
       "      <td>0</td>\n",
       "      <td>...</td>\n",
       "      <td>0</td>\n",
       "      <td>0</td>\n",
       "      <td>0</td>\n",
       "      <td>0</td>\n",
       "      <td>0</td>\n",
       "      <td>0</td>\n",
       "      <td>0</td>\n",
       "      <td>0</td>\n",
       "      <td>0</td>\n",
       "      <td>0</td>\n",
       "    </tr>\n",
       "    <tr>\n",
       "      <th>2</th>\n",
       "      <td>1</td>\n",
       "      <td>0</td>\n",
       "      <td>0</td>\n",
       "      <td>0</td>\n",
       "      <td>0</td>\n",
       "      <td>0</td>\n",
       "      <td>0</td>\n",
       "      <td>0</td>\n",
       "      <td>0</td>\n",
       "      <td>0</td>\n",
       "      <td>...</td>\n",
       "      <td>0</td>\n",
       "      <td>0</td>\n",
       "      <td>0</td>\n",
       "      <td>0</td>\n",
       "      <td>0</td>\n",
       "      <td>0</td>\n",
       "      <td>0</td>\n",
       "      <td>0</td>\n",
       "      <td>0</td>\n",
       "      <td>0</td>\n",
       "    </tr>\n",
       "    <tr>\n",
       "      <th>3</th>\n",
       "      <td>4</td>\n",
       "      <td>0</td>\n",
       "      <td>0</td>\n",
       "      <td>0</td>\n",
       "      <td>0</td>\n",
       "      <td>0</td>\n",
       "      <td>0</td>\n",
       "      <td>0</td>\n",
       "      <td>0</td>\n",
       "      <td>0</td>\n",
       "      <td>...</td>\n",
       "      <td>0</td>\n",
       "      <td>0</td>\n",
       "      <td>0</td>\n",
       "      <td>0</td>\n",
       "      <td>0</td>\n",
       "      <td>0</td>\n",
       "      <td>0</td>\n",
       "      <td>0</td>\n",
       "      <td>0</td>\n",
       "      <td>0</td>\n",
       "    </tr>\n",
       "    <tr>\n",
       "      <th>4</th>\n",
       "      <td>0</td>\n",
       "      <td>0</td>\n",
       "      <td>0</td>\n",
       "      <td>0</td>\n",
       "      <td>0</td>\n",
       "      <td>0</td>\n",
       "      <td>0</td>\n",
       "      <td>0</td>\n",
       "      <td>0</td>\n",
       "      <td>0</td>\n",
       "      <td>...</td>\n",
       "      <td>0</td>\n",
       "      <td>0</td>\n",
       "      <td>0</td>\n",
       "      <td>0</td>\n",
       "      <td>0</td>\n",
       "      <td>0</td>\n",
       "      <td>0</td>\n",
       "      <td>0</td>\n",
       "      <td>0</td>\n",
       "      <td>0</td>\n",
       "    </tr>\n",
       "  </tbody>\n",
       "</table>\n",
       "<p>5 rows × 785 columns</p>\n",
       "</div>"
      ],
      "text/plain": [
       "   label  pixel0  pixel1  pixel2  pixel3  pixel4  pixel5  pixel6  pixel7  \\\n",
       "0      1       0       0       0       0       0       0       0       0   \n",
       "1      0       0       0       0       0       0       0       0       0   \n",
       "2      1       0       0       0       0       0       0       0       0   \n",
       "3      4       0       0       0       0       0       0       0       0   \n",
       "4      0       0       0       0       0       0       0       0       0   \n",
       "\n",
       "   pixel8  ...  pixel774  pixel775  pixel776  pixel777  pixel778  pixel779  \\\n",
       "0       0  ...         0         0         0         0         0         0   \n",
       "1       0  ...         0         0         0         0         0         0   \n",
       "2       0  ...         0         0         0         0         0         0   \n",
       "3       0  ...         0         0         0         0         0         0   \n",
       "4       0  ...         0         0         0         0         0         0   \n",
       "\n",
       "   pixel780  pixel781  pixel782  pixel783  \n",
       "0         0         0         0         0  \n",
       "1         0         0         0         0  \n",
       "2         0         0         0         0  \n",
       "3         0         0         0         0  \n",
       "4         0         0         0         0  \n",
       "\n",
       "[5 rows x 785 columns]"
      ]
     },
     "execution_count": 3,
     "metadata": {},
     "output_type": "execute_result"
    }
   ],
   "source": [
    "d0.head()"
   ]
  },
  {
   "cell_type": "code",
   "execution_count": 4,
   "id": "8e0079b7",
   "metadata": {},
   "outputs": [],
   "source": [
    "l = d0['label']\n",
    "d = d0.drop(\"label\",axis=1)"
   ]
  },
  {
   "cell_type": "code",
   "execution_count": 5,
   "id": "f1a23853",
   "metadata": {
    "scrolled": true
   },
   "outputs": [
    {
     "name": "stdout",
     "output_type": "stream",
     "text": [
      "(42000, 784)\n",
      "(42000,)\n"
     ]
    }
   ],
   "source": [
    "print(d.shape)\n",
    "print(l.shape)"
   ]
  },
  {
   "cell_type": "code",
   "execution_count": 127,
   "id": "010595e0",
   "metadata": {
    "scrolled": true
   },
   "outputs": [
    {
     "data": {
      "image/png": "[encoded data removed]",
      "text/plain": [
       "<Figure size 700x700 with 1 Axes>"
      ]
     },
     "metadata": {},
     "output_type": "display_data"
    },
    {
     "name": "stdout",
     "output_type": "stream",
     "text": [
      "1\n"
     ]
    }
   ],
   "source": [
    "plt.figure(figsize=(7,7))\n",
    "idx = 12\n",
    "\n",
    "grid_data = d.iloc[idx].to_numpy().reshape(28,28)  # reshape from 1d to 2d pixel array\n",
    "plt.imshow(grid_data, interpolation = \"none\", cmap = \"gray\")\n",
    "plt.show()\n",
    "\n",
    "print(l[idx])"
   ]
  },
  {
   "cell_type": "code",
   "execution_count": 7,
   "id": "d631ad66",
   "metadata": {
    "scrolled": false
   },
   "outputs": [
    {
     "data": {
      "text/plain": [
       "<Axes: xlabel='label', ylabel='count'>"
      ]
     },
     "execution_count": 7,
     "metadata": {},
     "output_type": "execute_result"
    },
    {
     "data": {
      "image/png": "[encoded data removed]",
      "text/plain": [
       "<Figure size 640x480 with 1 Axes>"
      ]
     },
     "metadata": {},
     "output_type": "display_data"
    }
   ],
   "source": [
    "sns.countplot(d0['label'])"
   ]
  },
  {
   "cell_type": "code",
   "execution_count": null,
   "id": "bdac6650",
   "metadata": {},
   "outputs": [],
   "source": []
  },
  {
   "cell_type": "code",
   "execution_count": 113,
   "id": "b5f56db4",
   "metadata": {},
   "outputs": [],
   "source": [
    "# test1 = 0.2\n",
    "# test2 = 0.5\n",
    "# test3 = 0.8\n",
    "test4 = 0.01\n",
    "\n",
    "X_train, X_test, y_train, y_test = train_test_split(d, l, test_size = test4, random_state = 42)"
   ]
  },
  {
   "cell_type": "code",
   "execution_count": 114,
   "id": "ee1e35f4",
   "metadata": {
    "scrolled": false
   },
   "outputs": [
    {
     "data": {
      "text/plain": [
       "31974    1\n",
       "26991    6\n",
       "10378    0\n",
       "36183    9\n",
       "28569    0\n",
       "        ..\n",
       "6265     9\n",
       "11284    9\n",
       "38158    2\n",
       "860      6\n",
       "15795    0\n",
       "Name: label, Length: 41580, dtype: int64"
      ]
     },
     "execution_count": 114,
     "metadata": {},
     "output_type": "execute_result"
    }
   ],
   "source": [
    "y_train"
   ]
  },
  {
   "cell_type": "code",
   "execution_count": 93,
   "id": "9cfd4aeb",
   "metadata": {
    "scrolled": true
   },
   "outputs": [
    {
     "data": {
      "text/plain": [
       "(8400, 784)"
      ]
     },
     "execution_count": 93,
     "metadata": {},
     "output_type": "execute_result"
    }
   ],
   "source": [
    "scaling = StandardScaler()\n",
    "scaling.fit(X_train, y_train)\n",
    "X_train = scaling.transform(X_train)\n",
    "X_train.shape"
   ]
  },
  {
   "cell_type": "code",
   "execution_count": 115,
   "id": "4a35364b",
   "metadata": {},
   "outputs": [],
   "source": [
    "def train_and_evaluate(classifier, X_train, y_train, X_test, y_test):\n",
    "    classifier.fit(X_train, y_train)\n",
    "    y_pred = classifier.predict(X_test)\n",
    "    print(f'Accuracy Score is: {accuracy_score(y_test, y_pred)}')\n",
    "    print('\\nClassification Report: ')\n",
    "    print(classification_report(y_test, y_pred))\n",
    "    print('\\nConfusion Matrix: ')\n",
    "    print(confusion_matrix(y_test, y_pred))"
   ]
  },
  {
   "cell_type": "code",
   "execution_count": 116,
   "id": "fbf5120d",
   "metadata": {
    "scrolled": true
   },
   "outputs": [
    {
     "name": "stdout",
     "output_type": "stream",
     "text": [
      "Accuracy Score is: 0.9642857142857143\n",
      "\n",
      "Classification Report: \n",
      "              precision    recall  f1-score   support\n",
      "\n",
      "           0       1.00      0.97      0.99        40\n",
      "           1       0.95      1.00      0.97        56\n",
      "           2       0.97      0.97      0.97        38\n",
      "           3       0.94      0.98      0.96        48\n",
      "           4       0.97      1.00      0.98        29\n",
      "           5       0.96      0.90      0.93        29\n",
      "           6       0.98      1.00      0.99        53\n",
      "           7       0.96      0.94      0.95        52\n",
      "           8       0.96      0.93      0.95        28\n",
      "           9       0.96      0.91      0.93        47\n",
      "\n",
      "    accuracy                           0.96       420\n",
      "   macro avg       0.97      0.96      0.96       420\n",
      "weighted avg       0.96      0.96      0.96       420\n",
      "\n",
      "\n",
      "Confusion Matrix: \n",
      "[[39  0  0  0  0  0  1  0  0  0]\n",
      " [ 0 56  0  0  0  0  0  0  0  0]\n",
      " [ 0  0 37  0  0  0  0  0  1  0]\n",
      " [ 0  0  0 47  0  0  0  1  0  0]\n",
      " [ 0  0  0  0 29  0  0  0  0  0]\n",
      " [ 0  0  0  2  0 26  0  0  0  1]\n",
      " [ 0  0  0  0  0  0 53  0  0  0]\n",
      " [ 0  2  0  0  0  0  0 49  0  1]\n",
      " [ 0  0  0  0  1  1  0  0 26  0]\n",
      " [ 0  1  1  1  0  0  0  1  0 43]]\n"
     ]
    }
   ],
   "source": [
    "# Example usage with KNeighborsClassifier\n",
    "knn_classifier = KNeighborsClassifier(n_neighbors=10)\n",
    "train_and_evaluate(knn_classifier, X_train, y_train, X_test, y_test)"
   ]
  },
  {
   "cell_type": "code",
   "execution_count": 117,
   "id": "739852e7",
   "metadata": {
    "scrolled": true
   },
   "outputs": [
    {
     "name": "stdout",
     "output_type": "stream",
     "text": [
      "Accuracy Score is: 0.9142857142857143\n",
      "\n",
      "Classification Report: \n",
      "              precision    recall  f1-score   support\n",
      "\n",
      "           0       0.97      0.97      0.97        40\n",
      "           1       1.00      0.96      0.98        56\n",
      "           2       0.89      0.84      0.86        38\n",
      "           3       0.91      0.88      0.89        48\n",
      "           4       0.87      0.93      0.90        29\n",
      "           5       0.89      0.86      0.88        29\n",
      "           6       0.95      0.98      0.96        53\n",
      "           7       0.94      0.90      0.92        52\n",
      "           8       0.74      0.93      0.83        28\n",
      "           9       0.89      0.85      0.87        47\n",
      "\n",
      "    accuracy                           0.91       420\n",
      "   macro avg       0.91      0.91      0.91       420\n",
      "weighted avg       0.92      0.91      0.91       420\n",
      "\n",
      "\n",
      "Confusion Matrix: \n",
      "[[39  0  0  0  0  0  1  0  0  0]\n",
      " [ 0 54  0  0  0  0  0  0  1  1]\n",
      " [ 1  0 32  1  1  0  0  0  3  0]\n",
      " [ 0  0  1 42  0  1  0  1  3  0]\n",
      " [ 0  0  0  0 27  0  1  1  0  0]\n",
      " [ 0  0  0  1  0 25  1  0  1  1]\n",
      " [ 0  0  1  0  0  0 52  0  0  0]\n",
      " [ 0  0  0  1  1  0  0 47  0  3]\n",
      " [ 0  0  0  0  1  1  0  0 26  0]\n",
      " [ 0  0  2  1  1  1  0  1  1 40]]\n"
     ]
    }
   ],
   "source": [
    "# Create a logistic regression classifier\n",
    "logistic_classifier = LogisticRegression()\n",
    "\n",
    "# Train and evaluate the model\n",
    "train_and_evaluate(logistic_classifier, X_train, y_train, X_test, y_test)\n"
   ]
  },
  {
   "cell_type": "code",
   "execution_count": 118,
   "id": "32ed4928",
   "metadata": {
    "scrolled": true
   },
   "outputs": [
    {
     "name": "stdout",
     "output_type": "stream",
     "text": [
      "Accuracy Score is: 0.9738095238095238\n",
      "\n",
      "Classification Report: \n",
      "              precision    recall  f1-score   support\n",
      "\n",
      "           0       1.00      0.97      0.99        40\n",
      "           1       1.00      1.00      1.00        56\n",
      "           2       0.97      1.00      0.99        38\n",
      "           3       0.96      0.98      0.97        48\n",
      "           4       1.00      1.00      1.00        29\n",
      "           5       0.93      0.93      0.93        29\n",
      "           6       0.98      1.00      0.99        53\n",
      "           7       0.96      0.98      0.97        52\n",
      "           8       0.96      0.96      0.96        28\n",
      "           9       0.95      0.89      0.92        47\n",
      "\n",
      "    accuracy                           0.97       420\n",
      "   macro avg       0.97      0.97      0.97       420\n",
      "weighted avg       0.97      0.97      0.97       420\n",
      "\n",
      "\n",
      "Confusion Matrix: \n",
      "[[39  0  0  0  0  0  1  0  0  0]\n",
      " [ 0 56  0  0  0  0  0  0  0  0]\n",
      " [ 0  0 38  0  0  0  0  0  0  0]\n",
      " [ 0  0  0 47  0  0  0  1  0  0]\n",
      " [ 0  0  0  0 29  0  0  0  0  0]\n",
      " [ 0  0  0  1  0 27  0  0  0  1]\n",
      " [ 0  0  0  0  0  0 53  0  0  0]\n",
      " [ 0  0  0  0  0  0  0 51  0  1]\n",
      " [ 0  0  0  0  0  1  0  0 27  0]\n",
      " [ 0  0  1  1  0  1  0  1  1 42]]\n"
     ]
    }
   ],
   "source": [
    "from sklearn.svm import SVC\n",
    "\n",
    "# Create a support vector classifier\n",
    "svc_classifier = SVC(kernel = 'poly', C = 30, gamma = 0.001)\n",
    "\n",
    "# Train and evaluate the model\n",
    "train_and_evaluate(svc_classifier, X_train, y_train, X_test, y_test)"
   ]
  },
  {
   "cell_type": "code",
   "execution_count": 119,
   "id": "575f4a46",
   "metadata": {
    "scrolled": false
   },
   "outputs": [
    {
     "name": "stdout",
     "output_type": "stream",
     "text": [
      "Accuracy Score is: 0.9595238095238096\n",
      "\n",
      "Classification Report: \n",
      "              precision    recall  f1-score   support\n",
      "\n",
      "           0       1.00      0.97      0.99        40\n",
      "           1       1.00      1.00      1.00        56\n",
      "           2       0.95      0.95      0.95        38\n",
      "           3       0.94      0.98      0.96        48\n",
      "           4       0.88      1.00      0.94        29\n",
      "           5       1.00      0.90      0.95        29\n",
      "           6       0.96      1.00      0.98        53\n",
      "           7       0.96      0.94      0.95        52\n",
      "           8       0.93      0.96      0.95        28\n",
      "           9       0.95      0.87      0.91        47\n",
      "\n",
      "    accuracy                           0.96       420\n",
      "   macro avg       0.96      0.96      0.96       420\n",
      "weighted avg       0.96      0.96      0.96       420\n",
      "\n",
      "\n",
      "Confusion Matrix: \n",
      "[[39  0  0  0  0  0  1  0  0  0]\n",
      " [ 0 56  0  0  0  0  0  0  0  0]\n",
      " [ 0  0 36  0  1  0  0  0  1  0]\n",
      " [ 0  0  0 47  0  0  0  1  0  0]\n",
      " [ 0  0  0  0 29  0  0  0  0  0]\n",
      " [ 0  0  0  2  0 26  0  0  0  1]\n",
      " [ 0  0  0  0  0  0 53  0  0  0]\n",
      " [ 0  0  0  0  2  0  0 49  0  1]\n",
      " [ 0  0  0  0  0  0  1  0 27  0]\n",
      " [ 0  0  2  1  1  0  0  1  1 41]]\n"
     ]
    }
   ],
   "source": [
    "rf_classifier = RandomForestClassifier(n_estimators=50)\n",
    "\n",
    "\n",
    "train_and_evaluate(rf_classifier, X_train, y_train, X_test, y_test)"
   ]
  },
  {
   "cell_type": "code",
   "execution_count": 103,
   "id": "dd5d35f9",
   "metadata": {
    "scrolled": true
   },
   "outputs": [],
   "source": [
    "cv = RepeatedStratifiedKFold(n_splits=10, n_repeats=3, random_state=42)\n",
    "# evaluate the ensemble on the dataset using the resampling method\n",
    "n_scores = cross_val_score(rf_classifier, X_train, y_train, scoring='accuracy', cv=cv)"
   ]
  },
  {
   "cell_type": "code",
   "execution_count": 105,
   "id": "517623d1",
   "metadata": {
    "scrolled": true
   },
   "outputs": [
    {
     "name": "stdout",
     "output_type": "stream",
     "text": [
      "Mean Accuracy: 0.941 (0.010)\n"
     ]
    }
   ],
   "source": [
    "# report ensemble performance\n",
    "print('Mean Accuracy: %.3f (%.3f)' % (np.mean(n_scores), np.std(n_scores)))"
   ]
  }
 ],
 "metadata": {
  "kernelspec": {
   "display_name": "Python 3 (ipykernel)",
   "language": "python",
   "name": "python3"
  },
  "language_info": {
   "codemirror_mode": {
    "name": "ipython",
    "version": 3
   },
   "file_extension": ".py",
   "mimetype": "text/x-python",
   "name": "python",
   "nbconvert_exporter": "python",
   "pygments_lexer": "ipython3",
   "version": "3.10.9"
  }
 },
 "nbformat": 4,
 "nbformat_minor": 5
}
